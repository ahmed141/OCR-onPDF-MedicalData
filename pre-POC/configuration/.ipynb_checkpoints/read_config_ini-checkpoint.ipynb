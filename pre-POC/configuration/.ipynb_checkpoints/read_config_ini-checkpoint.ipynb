{
 "cells": [
  {
   "cell_type": "code",
   "execution_count": 1,
   "metadata": {},
   "outputs": [],
   "source": [
    "#Configuration File Name\n",
    "\n",
    "INI_FILE_NAME = 'config.ini'"
   ]
  },
  {
   "cell_type": "code",
   "execution_count": 2,
   "metadata": {},
   "outputs": [],
   "source": [
    "# Imports\n",
    "from configparser import ConfigParser"
   ]
  },
  {
   "cell_type": "code",
   "execution_count": 3,
   "metadata": {},
   "outputs": [],
   "source": [
    "class Config:\n",
    "    \"\"\"Interact with configuration variables.\"\"\"\n",
    "\n",
    "    config = ConfigParser()\n",
    "    \n",
    "    @classmethod\n",
    "    def initialize(cls):\n",
    "        \"\"\"Start config by reading INI_FILE_NAME\"\"\"\n",
    "        cls.config.read(INI_FILE_NAME)\n",
    "\n",
    "    @classmethod\n",
    "    def prod(cls, key):\n",
    "        \"\"\"Get prod values from config.ini.\"\"\"\n",
    "        return cls.config.get('PROD', key)\n",
    "\n",
    "    @classmethod\n",
    "    def dev(cls, key):\n",
    "        \"\"\"Get dev values from config.ini.\"\"\"\n",
    "        return cls.config.get('DEV', key)"
   ]
  },
  {
   "cell_type": "markdown",
   "metadata": {},
   "source": [
    "## Config Module Usage"
   ]
  },
  {
   "cell_type": "code",
   "execution_count": 4,
   "metadata": {},
   "outputs": [],
   "source": [
    "Config.initialize()"
   ]
  },
  {
   "cell_type": "code",
   "execution_count": 7,
   "metadata": {},
   "outputs": [
    {
     "data": {
      "text/plain": [
       "'https://dev.endpoint.example.com'"
      ]
     },
     "execution_count": 7,
     "metadata": {},
     "output_type": "execute_result"
    }
   ],
   "source": [
    "Config.dev('ENDPOINT')"
   ]
  },
  {
   "cell_type": "code",
   "execution_count": null,
   "metadata": {},
   "outputs": [],
   "source": []
  }
 ],
 "metadata": {
  "kernelspec": {
   "display_name": "Python 3",
   "language": "python",
   "name": "python3"
  },
  "language_info": {
   "codemirror_mode": {
    "name": "ipython",
    "version": 3
   },
   "file_extension": ".py",
   "mimetype": "text/x-python",
   "name": "python",
   "nbconvert_exporter": "python",
   "pygments_lexer": "ipython3",
   "version": "3.6.8"
  }
 },
 "nbformat": 4,
 "nbformat_minor": 4
}
