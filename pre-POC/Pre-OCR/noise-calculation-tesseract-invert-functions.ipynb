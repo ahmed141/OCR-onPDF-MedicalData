{
 "cells": [
  {
   "cell_type": "code",
   "execution_count": 8,
   "metadata": {},
   "outputs": [],
   "source": [
    "import pytesseract\n",
    "import pandas as pd\n",
    "from PIL import Image\n",
    "import cv2 as cv\n",
    "import numpy as np\n",
    "import matplotlib.pyplot as plt\n",
    "from threading import Thread\n",
    "import concurrent.futures\n",
    "\n",
    "%matplotlib inline"
   ]
  },
  {
   "cell_type": "code",
   "execution_count": 2,
   "metadata": {},
   "outputs": [],
   "source": [
    "pytesseract.pytesseract.tesseract_cmd = r'C:\\\\Program Files\\\\Tesseract-OCR\\\\tesseract.exe'"
   ]
  },
  {
   "cell_type": "markdown",
   "metadata": {},
   "source": [
    "## File Path"
   ]
  },
  {
   "cell_type": "code",
   "execution_count": 16,
   "metadata": {},
   "outputs": [],
   "source": [
    "IMAGE_PATH = \"../datafiles/Page_2.jpg\"\n",
    "imageMAT = Image.open(IMAGE_PATH)"
   ]
  },
  {
   "cell_type": "markdown",
   "metadata": {},
   "source": [
    "## Get blocks"
   ]
  },
  {
   "cell_type": "code",
   "execution_count": 17,
   "metadata": {},
   "outputs": [],
   "source": [
    "def rgb2gray(rgb):\n",
    "    return np.dot(rgb[..., :3], [0.2989, 0.5870, 0.1140])"
   ]
  },
  {
   "cell_type": "code",
   "execution_count": 7,
   "metadata": {},
   "outputs": [],
   "source": [
    "def get_noise_val_Image(imagePIL, NoiseThreshold_ppage): # NoiseThreshold_ppage is b/w 0 and 1\n",
    "    '''\n",
    "    Params:\n",
    "        imagePIL - PIL image object\n",
    "        NoiseThreshold_ppage - %age noise threshold for an image range [0, 1]\n",
    "        \n",
    "    Returns:\n",
    "        ratio of dark pixels and total pixels\n",
    "        boolean page acceptance result based on noise ratio\n",
    "        binary image with 0 representing noise pixels    \n",
    "    '''\n",
    "    \n",
    "    BinaryThreshold = 195          #will come from config file\n",
    "    \n",
    "    \n",
    "    # matcopy = imagePIL.copy()\n",
    "    grayPIL = imagePIL.convert('LA')\n",
    "    imageNUMPY = np.array(grayPIL, dtype='uint8')\n",
    "    \n",
    "    Tessstart = time.time()\n",
    "    data_result = pytesseract.image_to_data(imagePIL, lang='eng')\n",
    "    print(\"Tess EndTime taken\", time.time() - Tessstart)\n",
    "    \n",
    "    data_lines = ([s_inner.split() for s_inner in data_result.splitlines()])\n",
    "    df = pd.DataFrame(data_lines[1:], columns = data_lines[0])\n",
    "    df = df.dropna()\n",
    "    \n",
    "    \n",
    "    # DFFORstart = time.time()\n",
    "    for index, row in df.iterrows():\n",
    "        r = int(row['top']); r_ = r + int(row['height'])\n",
    "        c = int(row['left']); c_ = c + int(row['width'])\n",
    "        imageNUMPY[r:r_, c:c_, :] = 255\n",
    "    # print(\"DFFOR EndTime taken\", time.time() - DFFORstart)\n",
    "    \n",
    "    #bin_ = rgb2gray(imageNUMPY)\n",
    "    bin_ = np.zeros(imageNUMPY.shape)\n",
    "    \n",
    "    bin_ = np.where(bin_ > BinaryThreshold, 1, 0)\n",
    "    \n",
    "    pixels_num = bin_.shape[0]*bin_.shape[1]\n",
    "    ratio = (pixels_num - bin_.sum())/pixels_num\n",
    "    \n",
    "    return ratio, ratio > NoiseThreshold_ppage, bin_ #returns the ratio, rejection result, binary_Image"
   ]
  },
  {
   "cell_type": "code",
   "execution_count": null,
   "metadata": {},
   "outputs": [],
   "source": [
    "def get_noise_params_PDF(PDFImages, NoiseThreshold_ppage  = 0.50):\n",
    "    ''' IN-PROGRESS\n",
    "    PDFImages: r x c x ch x num where num is number of \n",
    "    '''\n",
    "    PAGESCOUNT = len(PDFImages)\n",
    "    pageNoiseFlag = [0]*PAGESCOUNT   #should be a class prop\n",
    "\n",
    "    FORstart = time.time()\n",
    "    \n",
    "    for i in range(0, len(PDFImages)):\n",
    "        #ITstart = time.time()\n",
    "        if(get_noise_val_Image(PDFImages[i], NoiseThreshold_ppage)[1]): #rejection means: page is noisy\n",
    "            pageNoiseFlag[i] = 1\n",
    "        #print(\"Iteration-Time taken\", time.time() - ITstart)\n",
    "    \n",
    "    print(\"FOR EndTime taken\", time.time() - FORstart)\n",
    "    \n",
    "    return   sum(pageNoiseFlag)/PAGESCOUNT, pageNoiseFlag #returns the %age of pages that are noisy [0, 1]"
   ]
  },
  {
   "cell_type": "code",
   "execution_count": 10,
   "metadata": {},
   "outputs": [],
   "source": []
  },
  {
   "cell_type": "markdown",
   "metadata": {},
   "source": [
    "### Using the functions"
   ]
  },
  {
   "cell_type": "code",
   "execution_count": 28,
   "metadata": {},
   "outputs": [],
   "source": [
    "R, r, I = get_noise_val_Image(imageMAT, 0.50)"
   ]
  },
  {
   "cell_type": "code",
   "execution_count": 36,
   "metadata": {},
   "outputs": [
    {
     "name": "stdout",
     "output_type": "stream",
     "text": [
      "0.9990941176470588 True\n"
     ]
    },
    {
     "data": {
      "image/png": "[encoded data removed]",
      "text/plain": [
       "<Figure size 432x288 with 1 Axes>"
      ]
     },
     "metadata": {
      "needs_background": "light"
     },
     "output_type": "display_data"
    }
   ],
   "source": [
    "# print(R, r)\n",
    "\n",
    "# plt.imshow(I)\n",
    "# plt.show()"
   ]
  },
  {
   "cell_type": "code",
   "execution_count": null,
   "metadata": {},
   "outputs": [],
   "source": []
  }
 ],
 "metadata": {
  "kernelspec": {
   "display_name": "Python 3",
   "language": "python",
   "name": "python3"
  },
  "language_info": {
   "codemirror_mode": {
    "name": "ipython",
    "version": 3
   },
   "file_extension": ".py",
   "mimetype": "text/x-python",
   "name": "python",
   "nbconvert_exporter": "python",
   "pygments_lexer": "ipython3",
   "version": "3.6.9"
  }
 },
 "nbformat": 4,
 "nbformat_minor": 4
}
