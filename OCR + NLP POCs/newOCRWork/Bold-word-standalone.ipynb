{
 "cells": [
  {
   "cell_type": "code",
   "execution_count": 1,
   "metadata": {},
   "outputs": [],
   "source": [
    "from __future__ import print_function\n",
    "\n",
    "from tesserocr import PyTessBaseAPI, PSM, PT, RIL, iterate_level\n",
    "from PIL import Image\n",
    "import time\n",
    "import cv2\n",
    "import numpy as np\n",
    "from io import BytesIO\n",
    "import matplotlib.pyplot as plt\n",
    "import matplotlib.patches as patches\n",
    "%matplotlib inline"
   ]
  },
  {
   "cell_type": "code",
   "execution_count": 6,
   "metadata": {},
   "outputs": [],
   "source": [
    "def word_density_map(PILimage):\n",
    "    with PyTessBaseAPI(path=\"C:\\\\Tesseract\\\\Tesseract-OCR-v3\\\\tessdata\") as api:\n",
    "        api.SetImage(PILimage)\n",
    "        api.Recognize()\n",
    "        \n",
    "        ri = api.GetIterator()\n",
    "        level = RIL.WORD\n",
    "        \n",
    "        result = {}\n",
    "        result['word'] = []\n",
    "        result['density'] = []\n",
    "        result['bbox'] = []\n",
    "        for r in iterate_level(ri, level):\n",
    "            if r:\n",
    "                tmpword = r.GetUTF8Text(level)\n",
    "                if (tmpword.rstrip()):\n",
    "                    img = r.GetBinaryImage(level)\n",
    "\n",
    "                    img_sh = np.asarray(img)\n",
    "                    denom = img_sh.size\n",
    "                    \n",
    "                    result['word'].append(r.GetUTF8Text(level))\n",
    "                    result['bbox'].append(r.BoundingBox(level))\n",
    "                    result['density'].append(1- (img_sh.sum()/(denom*255)))\n",
    "        \n",
    "        return result"
   ]
  },
  {
   "cell_type": "code",
   "execution_count": 21,
   "metadata": {},
   "outputs": [],
   "source": [
    "def is_Bold(wordDenisty, pageWordsDensityList, percentageThreshold):\n",
    "    '''\n",
    "    params:\n",
    "        wordAttrbs - density\n",
    "        pageWordsDensityList - list of densities from page\n",
    "        percentageThreshold - X% threshold\n",
    "    '''\n",
    "    np_array = np.array(pageWordsDensityList)\n",
    "    \n",
    "    percentageBelow = np.where(np_array < wordDenisty)[0].size / nparr.size\n",
    "    \n",
    "    return percentageBelow > percentageThreshold"
   ]
  },
  {
   "cell_type": "code",
   "execution_count": 3,
   "metadata": {},
   "outputs": [],
   "source": [
    "imagepath = \"..\\\\datafiles\\\\doc22\\\\doc22-0.png\"\n",
    "imagePIL = Image.open(imagepath)"
   ]
  },
  {
   "cell_type": "code",
   "execution_count": 7,
   "metadata": {},
   "outputs": [],
   "source": [
    "listofD = word_density_map(imagePIL)"
   ]
  },
  {
   "cell_type": "code",
   "execution_count": 10,
   "metadata": {},
   "outputs": [],
   "source": [
    "nparr = np.array(listofD['density'])"
   ]
  },
  {
   "cell_type": "code",
   "execution_count": 19,
   "metadata": {},
   "outputs": [
    {
     "ename": "ValueError",
     "evalue": "operands could not be broadcast together with shapes (485,) (2,) ",
     "output_type": "error",
     "traceback": [
      "\u001b[1;31m---------------------------------------------------------------------------\u001b[0m",
      "\u001b[1;31mValueError\u001b[0m                                Traceback (most recent call last)",
      "\u001b[1;32m<ipython-input-19-9175045d26a4>\u001b[0m in \u001b[0;36m<module>\u001b[1;34m\u001b[0m\n\u001b[1;32m----> 1\u001b[1;33m \u001b[0mnp\u001b[0m\u001b[1;33m.\u001b[0m\u001b[0mwhere\u001b[0m\u001b[1;33m(\u001b[0m\u001b[0mnparr\u001b[0m \u001b[1;33m>\u001b[0m \u001b[1;33m[\u001b[0m\u001b[1;36m0.5\u001b[0m\u001b[1;33m,\u001b[0m \u001b[1;36m0.4\u001b[0m\u001b[1;33m]\u001b[0m\u001b[1;33m)\u001b[0m\u001b[1;33m\u001b[0m\u001b[1;33m\u001b[0m\u001b[0m\n\u001b[0m",
      "\u001b[1;31mValueError\u001b[0m: operands could not be broadcast together with shapes (485,) (2,) "
     ]
    }
   ],
   "source": [
    "np.where(nparr > )"
   ]
  },
  {
   "cell_type": "code",
   "execution_count": 22,
   "metadata": {},
   "outputs": [],
   "source": [
    "A=\"\"\n",
    "A=\"GBGB\"\n",
    "A=\"\""
   ]
  },
  {
   "cell_type": "code",
   "execution_count": null,
   "metadata": {},
   "outputs": [],
   "source": []
  }
 ],
 "metadata": {
  "kernelspec": {
   "display_name": "Python 3",
   "language": "python",
   "name": "python3"
  },
  "language_info": {
   "codemirror_mode": {
    "name": "ipython",
    "version": 3
   },
   "file_extension": ".py",
   "mimetype": "text/x-python",
   "name": "python",
   "nbconvert_exporter": "python",
   "pygments_lexer": "ipython3",
   "version": "3.6.9"
  }
 },
 "nbformat": 4,
 "nbformat_minor": 4
}
