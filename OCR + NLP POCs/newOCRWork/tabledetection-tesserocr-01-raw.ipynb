{
 "cells": [
  {
   "cell_type": "code",
   "execution_count": 1,
   "metadata": {},
   "outputs": [],
   "source": [
    "from __future__ import print_function\n",
    "from tesserocr import PyTessBaseAPI, RIL, iterate_level, PT\n",
    "from PIL import Image\n",
    "import cv2\n",
    "import numpy as np"
   ]
  },
  {
   "cell_type": "code",
   "execution_count": 2,
   "metadata": {},
   "outputs": [],
   "source": [
    "IMAGEPATH = '../datafiles/tb-doc-1.jpg'"
   ]
  },
  {
   "cell_type": "code",
   "execution_count": 3,
   "metadata": {},
   "outputs": [],
   "source": [
    "def draw_rects(img, x,y,x2,y2, block_type, conf):\n",
    "    \"\"\"\n",
    "   ?????????????\n",
    "   :param img:\n",
    "   :param rects:\n",
    "   :return:\n",
    "    \"\"\"\n",
    "    font = cv2.FONT_HERSHEY_SIMPLEX\n",
    "    cv2.rectangle(img, (x, y), (x2, y2), (0, 0, 255), 2)\n",
    "    cv2.imshow('Image',img)\n",
    "    cv2.waitKey(5)\n",
    "   #cv2.imwrite(\"image\" + str(block_type) + \".jpg\", img)\n",
    "   #plt.imsave('./final_image.jpg',img)\n",
    "    cv2.putText(img, str(conf), (x, y), font, 1, (0, 255, 0), 2, cv2.LINE_AA)"
   ]
  },
  {
   "cell_type": "code",
   "execution_count": null,
   "metadata": {},
   "outputs": [
    {
     "name": "stdout",
     "output_type": "stream",
     "text": [
      "9 (115, 62, 125, 72) 95.0\n",
      "1 (54, 64, 554, 180) 73.65848541259766\n",
      "12 (54, 193, 560, 194) 95.0\n",
      "12 (54, 214, 560, 216) 95.0\n",
      "12 (54, 236, 560, 238) 95.0\n",
      "12 (54, 257, 560, 259) 95.0\n",
      "12 (54, 279, 560, 281) 95.0\n",
      "12 (54, 301, 560, 303) 95.0\n",
      "12 (54, 322, 560, 324) 95.0\n",
      "12 (54, 344, 560, 346) 95.0\n",
      "12 (54, 365, 560, 367) 95.0\n",
      "12 (54, 387, 560, 389) 95.0\n",
      "12 (54, 409, 560, 411) 95.0\n",
      "12 (54, 430, 560, 432) 95.0\n",
      "12 (54, 452, 560, 454) 95.0\n",
      "13 (54, 193, 56, 475) 95.0\n",
      "13 (155, 193, 157, 475) 95.0\n",
      "13 (262, 193, 264, 475) 95.0\n",
      "13 (410, 193, 412, 475) 95.0\n",
      "13 (488, 201, 490, 482) 95.0\n",
      "13 (558, 193, 560, 475) 95.0\n",
      "12 (54, 473, 560, 475) 95.0\n",
      "6 (55, 201, 545, 499) 72.92958068847656\n",
      "9 (110, 489, 134, 497) 95.0\n",
      "1 (54, 503, 553, 579) 77.63053894042969\n",
      "12 (123, 588, 399, 590) 95.0\n",
      "1 (134, 592, 305, 602) 76.80644989013672\n",
      "9 (306, 592, 321, 600) 95.0\n",
      "1 (306, 592, 377, 693) 86.33732604980469\n",
      "12 (123, 606, 399, 608) 95.0\n",
      "12 (123, 623, 399, 625) 95.0\n",
      "12 (123, 641, 399, 643) 95.0\n",
      "12 (123, 659, 399, 661) 95.0\n",
      "12 (123, 677, 399, 679) 95.0\n",
      "13 (123, 588, 125, 698) 95.0\n",
      "13 (267, 588, 269, 698) 95.0\n",
      "13 (397, 588, 399, 698) 95.0\n",
      "12 (123, 696, 399, 698) 95.0\n",
      "1 (37, 725, 310, 751) 68.311767578125\n"
     ]
    }
   ],
   "source": [
    "with PyTessBaseAPI(path=\"C:\\\\Tesseract\\\\Tesseract-OCR-v3\\\\tessdata\") as api:\n",
    "    api.SetImageFile(IMAGEPATH)\n",
    "    api.Recognize()\n",
    "    image = Image.open(IMAGEPATH)\n",
    "    image_np = np.array(image)\n",
    "    ri = api.GetIterator()\n",
    "    level = RIL.BLOCK\n",
    "#     print(ri)\n",
    "#     print(level)\n",
    "    for r in iterate_level(ri, level):\n",
    "        symbol = r.GetUTF8Text(level)  # r == ri\n",
    "        conf = r.Confidence(level)\n",
    "        block_type = r.BlockType()\n",
    "        bounding_box_cord = r.BoundingBox(level)\n",
    "        print(block_type, bounding_box_cord, conf) #  BBox output for current block\n",
    "        left = bounding_box_cord[0]\n",
    "        top = bounding_box_cord[1]\n",
    "        right = bounding_box_cord[2]\n",
    "        bottom = bounding_box_cord[3]\n",
    "        #if (block_type == PT.TABLE):\n",
    "        draw_rects(image_np,left,top,right,bottom, block_type, conf)        \n",
    "\n",
    "cv2.waitKey(0)\n",
    "cv2.destroyAllWindows()"
   ]
  },
  {
   "cell_type": "code",
   "execution_count": null,
   "metadata": {},
   "outputs": [],
   "source": []
  },
  {
   "cell_type": "code",
   "execution_count": null,
   "metadata": {},
   "outputs": [],
   "source": []
  }
 ],
 "metadata": {
  "kernelspec": {
   "display_name": "Python 3",
   "language": "python",
   "name": "python3"
  },
  "language_info": {
   "codemirror_mode": {
    "name": "ipython",
    "version": 3
   },
   "file_extension": ".py",
   "mimetype": "text/x-python",
   "name": "python",
   "nbconvert_exporter": "python",
   "pygments_lexer": "ipython3",
   "version": "3.6.9"
  }
 },
 "nbformat": 4,
 "nbformat_minor": 4
}
