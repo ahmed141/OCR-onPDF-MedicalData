{
 "cells": [
  {
   "cell_type": "markdown",
   "metadata": {},
   "source": [
    "### Pdf to List of Images Conversion"
   ]
  },
  {
   "cell_type": "code",
   "execution_count": null,
   "metadata": {},
   "outputs": [],
   "source": [
    "!pip install wand\n",
    "!pip install pytesseract opencv-python"
   ]
  },
  {
   "cell_type": "code",
   "execution_count": 27,
   "metadata": {},
   "outputs": [],
   "source": [
    "\n",
    "from __future__ import print_function\n",
    "from wand.image import Image as wi\n",
    "import os; from io import BytesIO\n",
    "from PIL import Image\n",
    "import matplotlib.pyplot as plt\n",
    "import time\n"
   ]
  },
  {
   "cell_type": "code",
   "execution_count": 28,
   "metadata": {},
   "outputs": [],
   "source": [
    "cwd = os.getcwd()\n",
    "#cwd = cwd[0:len(cwd)-cwd[::-1].index('\\\\')] # List comprehension ! \n",
    "filepath = \"icdoc.pdf\""
   ]
  },
  {
   "cell_type": "markdown",
   "metadata": {},
   "source": [
    "### Convert file to Jpeg\n",
    "* pdf.sequence -> Gives you the number of pages\n",
    "* Conversion of images to Jpeg (Complete PDF sequence to JPEG)"
   ]
  },
  {
   "cell_type": "code",
   "execution_count": 29,
   "metadata": {},
   "outputs": [
    {
     "name": "stdout",
     "output_type": "stream",
     "text": [
      "The time Consumed :  11.477209329605103\n"
     ]
    }
   ],
   "source": [
    "temp = time.time()\n",
    "pdf = wi(filename = filepath, resolution=300, background = 'white') # Wand image , Resolution (300 ? DPI )\n",
    "numPages = len(pdf.sequence)   #should be a class prop\n",
    "pdfImages = pdf.convert(\"jpeg\") # Jpeg Converstion \n",
    "print(\"The time Consumed : \", time.time() - temp) # Conversion of the Jpeg"
   ]
  },
  {
   "cell_type": "code",
   "execution_count": 30,
   "metadata": {},
   "outputs": [],
   "source": [
    "pageImages = []   #should be a class prop\n",
    "for img in pdfImages.sequence: # goes through every page of the PDF images ! \n",
    "    page = wi(img) # passes it back to wand (PDF --> Wand --> PIL ---( blob. io ! ))\n",
    "    PIL_img = Image.open(BytesIO(page.make_blob('jpeg'))) # Bytes mapping ! \n",
    "    pageImages.append(PIL_img) # Adding the PIL object ! "
   ]
  },
  {
   "cell_type": "code",
   "execution_count": 31,
   "metadata": {},
   "outputs": [
    {
     "data": {
      "text/plain": [
       "10"
      ]
     },
     "execution_count": 31,
     "metadata": {},
     "output_type": "execute_result"
    }
   ],
   "source": [
    "len(pageImages)"
   ]
  },
  {
   "cell_type": "code",
   "execution_count": 32,
   "metadata": {},
   "outputs": [
    {
     "name": "stderr",
     "output_type": "stream",
     "text": [
      "c:\\users\\shafay.amjad\\appdata\\local\\programs\\python\\python37\\lib\\site-packages\\ipykernel_launcher.py:1: MatplotlibDeprecationWarning: The 'shape' parameter of imshow() is deprecated since Matplotlib 3.1 and will be removed in 3.3.  If any parameter follows 'shape', they should be pass as keyword, not positionally.\n",
      "  \"\"\"Entry point for launching an IPython kernel.\n"
     ]
    },
    {
     "data": {
      "text/plain": [
       "<matplotlib.image.AxesImage at 0x2a4bbdbb1c8>"
      ]
     },
     "execution_count": 32,
     "metadata": {},
     "output_type": "execute_result"
    },
    {
     "data": {
      "image/png": "[encoded data removed]",
      "text/plain": [
       "<Figure size 432x288 with 1 Axes>"
      ]
     },
     "metadata": {
      "needs_background": "light"
     },
     "output_type": "display_data"
    }
   ],
   "source": [
    "plt.imshow(pageImages[2], shape = (100,8))"
   ]
  },
  {
   "cell_type": "markdown",
   "metadata": {},
   "source": [
    "### Noise Calculation (page based)\n",
    "* Page Based\n",
    "* English Grammer Mapping ( Either by Engish Dictionary or any other module)\n"
   ]
  },
  {
   "cell_type": "code",
   "execution_count": 33,
   "metadata": {},
   "outputs": [],
   "source": [
    "import pytesseract\n",
    "import pandas as pd\n",
    "from PIL import Image\n",
    "import cv2 as cv\n",
    "import numpy as np\n",
    "import matplotlib.pyplot as plt\n",
    "from threading import Thread\n",
    "import concurrent.futures\n",
    "\n",
    "%matplotlib inline"
   ]
  },
  {
   "cell_type": "code",
   "execution_count": 34,
   "metadata": {},
   "outputs": [],
   "source": [
    "pytesseract.pytesseract.tesseract_cmd = r'C:\\\\Program Files\\\\Tesseract-OCR\\\\tesseract.exe'"
   ]
  },
  {
   "cell_type": "markdown",
   "metadata": {},
   "source": [
    "### Get Blocks"
   ]
  },
  {
   "cell_type": "code",
   "execution_count": 35,
   "metadata": {},
   "outputs": [],
   "source": [
    "def rgb2gray(rgb):\n",
    "    return np.dot(rgb[..., :3], [0.2989, 0.5870, 0.1140])"
   ]
  },
  {
   "cell_type": "markdown",
   "metadata": {},
   "source": [
    "### Using Py Tesseract"
   ]
  },
  {
   "cell_type": "code",
   "execution_count": 36,
   "metadata": {},
   "outputs": [],
   "source": [
    "def get_noise_val_Image(imagePIL, NoiseThreshold_ppage): # NoiseThreshold_ppage is b/w 0 and 1\n",
    "    '''\n",
    "    Params:\n",
    "        imagePIL - PIL image object\n",
    "        NoiseThreshold_ppage - %age noise threshold for an image range [0, 1]\n",
    "        \n",
    "    Returns:\n",
    "        ratio of dark pixels and total pixels\n",
    "        boolean page acceptance result based on noise ratio\n",
    "        binary image with 0 representing noise pixels    \n",
    "    '''\n",
    "    \n",
    "    BinaryThreshold = 195          #will come from config file\n",
    "    \n",
    "    \n",
    "    # matcopy = imagePIL.copy()\n",
    "    grayPIL = imagePIL.convert('LA') # Grey scale Conversion\n",
    "    imageNUMPY = np.array(grayPIL, dtype='uint8') # integer8 (Gray Image converssion ! )\n",
    "    \n",
    "    Tessstart = time.time()\n",
    "    data_result = pytesseract.image_to_data(imagePIL, lang='eng') # Langugae AuTODETECTION ??????? \n",
    "    # By default we are considering the English langauge \n",
    "    print(\"Tess EndTime taken\", time.time() - Tessstart) # Time Bench marks \n",
    "    \n",
    "    data_lines = ([s_inner.split() for s_inner in data_result.splitlines()]) # Data lines ( )\n",
    "    df = pd.DataFrame(data_lines[1:], columns = data_lines[0])\n",
    "    df = df.dropna() # Null vaulues removal as those would be empty\n",
    "    \n",
    "    \n",
    "    # DFFORstart = time.time()\n",
    "    for index, row in df.iterrows():\n",
    "        r = int(row['top']); r_ = r + int(row['height'])\n",
    "        c = int(row['left']); c_ = c + int(row['width'])\n",
    "        imageNUMPY[r:r_, c:c_, :] = 255\n",
    "    # print(\"DFFOR EndTime taken\", time.time() - DFFORstart)\n",
    "    \n",
    "    #bin_ = rgb2gray(imageNUMPY)\n",
    "    bin_ = np.zeros(imageNUMPY.shape)\n",
    "    \n",
    "    bin_ = np.where(bin_ > BinaryThreshold, 1, 0)\n",
    "    \n",
    "    pixels_num = bin_.shape[0]*bin_.shape[1]\n",
    "    ratio = (pixels_num - bin_.sum())/pixels_num\n",
    "    # Noise Ration (pivoted), Rejected or Accepted , Binary Image \n",
    "    return ratio, ratio > NoiseThreshold_ppage, bin_ #returns the ratio, rejection result, binary_Image"
   ]
  },
  {
   "cell_type": "code",
   "execution_count": 37,
   "metadata": {},
   "outputs": [],
   "source": [
    "def get_noise_params_PDF(PDFImages, NoiseThreshold_ppage  = 0.50):\n",
    "    ''' IN-PROGRESS\n",
    "    PDFImages: r x c x ch x num where num is number of \n",
    "    '''\n",
    "    PAGESCOUNT = len(PDFImages)\n",
    "    pageNoiseFlag = [0]*PAGESCOUNT   #should be a class prop\n",
    "\n",
    "    FORstart = time.time()\n",
    "    \n",
    "    for i in range(0, len(PDFImages)):\n",
    "        if(get_noise_val_Image(PDFImages[i], NoiseThreshold_ppage)[1]): #rejection means: page is noisy\n",
    "            pageNoiseFlag[i] = 1\n",
    "    \n",
    "    print(\"FOR EndTime taken\", time.time() - FORstart)\n",
    "    \n",
    "    return   sum(pageNoiseFlag)/PAGESCOUNT, pageNoiseFlag #returns the %age of pages that are noisy [0, 1]"
   ]
  },
  {
   "cell_type": "code",
   "execution_count": 38,
   "metadata": {},
   "outputs": [],
   "source": [
    "### Using the functions\n",
    "\n",
    "# R, r, I = get_noise_val_Image(imageMAT, 0.50)\n",
    "\n",
    "# print(R, r)\n",
    "\n",
    "# plt.imshow(I)\n",
    "# plt.show()"
   ]
  },
  {
   "cell_type": "code",
   "execution_count": 39,
   "metadata": {},
   "outputs": [
    {
     "name": "stdout",
     "output_type": "stream",
     "text": [
      "Tess EndTime taken 3.086804151535034\n",
      "Tess EndTime taken 3.077725887298584\n",
      "Tess EndTime taken 3.015650510787964\n",
      "Tess EndTime taken 4.341964244842529\n",
      "Tess EndTime taken 2.9549496173858643\n",
      "Tess EndTime taken 2.400911331176758\n",
      "Tess EndTime taken 3.271383762359619\n",
      "Tess EndTime taken 3.786754846572876\n",
      "Tess EndTime taken 3.318714141845703\n",
      "Tess EndTime taken 3.9392547607421875\n",
      "FOR EndTime taken 37.924375772476196\n",
      "Time taken 37.92633819580078\n"
     ]
    }
   ],
   "source": [
    "start = time.time()\n",
    "res = get_noise_params_PDF(pageImages)\n",
    "print(\"Time taken\", time.time() - start)"
   ]
  },
  {
   "cell_type": "code",
   "execution_count": 40,
   "metadata": {},
   "outputs": [
    {
     "name": "stdout",
     "output_type": "stream",
     "text": [
      "Tess EndTime taken 3.0492091178894043\n",
      "Time taken 3.531099796295166\n"
     ]
    }
   ],
   "source": [
    "start = time.time()\n",
    "res = get_noise_val_Image(pageImages[1], 0.50)[1]\n",
    "print(\"Time taken\", time.time() - start)"
   ]
  },
  {
   "cell_type": "markdown",
   "metadata": {},
   "source": [
    "### OCR SCAN\n",
    "* Images to Text Conversion \n",
    "* Table Detection (Table detection does happens in the java code but doesn't go in the grain)\n",
    "     * TH , TR , TD\n",
    "* Background Detection\n",
    "    * Specific Line Background\n",
    "    * Word Level, Block Level & Line Level (Under Progress)\n",
    "    \n",
    "* Font Characterstics\n",
    "    * Font Density ( Tried to do in jar but was inefficent, insufficent and inaccurate)\n",
    "        * Bold \n",
    "        * Light\n",
    "    * Font Size\n",
    "* Hand Written Detection (ITS UNDER PROGRESS)\n",
    "    * HandWritten Model vs Digital Text Model\n",
    "    * Evaluation of Metrices\n",
    "    \n",
    "     \n",
    "      "
   ]
  },
  {
   "cell_type": "code",
   "execution_count": 41,
   "metadata": {},
   "outputs": [],
   "source": [
    "# from PIL import Image\n",
    "# import pytesseract\n",
    "\n",
    "# try:\n",
    "#     img = Image.open(path/to/image.png) \n",
    "#     pytesseract.pytesseract.tesseract_cmd = r'C:\\Program Files (x86)\\Tesseract-OCR\\tesseract'\n",
    "#     text = pytesseract.image_to_string(path/to/image.png)\n",
    "#     print(text)"
   ]
  },
  {
   "cell_type": "code",
   "execution_count": 42,
   "metadata": {},
   "outputs": [
    {
     "data": {
      "text/plain": [
       "'C:\\\\Program Files\\\\Tesseract-OCR\\tesseract.exe'"
      ]
     },
     "execution_count": 42,
     "metadata": {},
     "output_type": "execute_result"
    }
   ],
   "source": [
    "\"C:\\Program Files\\Tesseract-OCR\\tesseract.exe\""
   ]
  },
  {
   "cell_type": "code",
   "execution_count": 43,
   "metadata": {},
   "outputs": [],
   "source": [
    "#import pytesseract"
   ]
  },
  {
   "cell_type": "code",
   "execution_count": 44,
   "metadata": {},
   "outputs": [],
   "source": [
    "#!pip install pillow\n",
    "IMAGEPATH = 'tb-doc-1.jpg'"
   ]
  },
  {
   "cell_type": "code",
   "execution_count": 45,
   "metadata": {},
   "outputs": [],
   "source": [
    "def draw_rects(img, x,y,x2,y2, block_type, conf):\n",
    "    \"\"\"\n",
    "   ?????????????\n",
    "   :param img:\n",
    "   :param rects:\n",
    "   :return:\n",
    "    \"\"\"\n",
    "    font = cv2.FONT_HERSHEY_SIMPLEX\n",
    "    cv2.rectangle(img, (x, y), (x2, y2), (0, 0, 255), 2)\n",
    "    cv2.imshow('Image',img)\n",
    "    cv2.waitKey(5)\n",
    "   #cv2.imwrite(\"image\" + str(block_type) + \".jpg\", img)\n",
    "   #plt.imsave('./final_image.jpg',img)\n",
    "    cv2.putText(img, str(conf), (x, y), font, 1, (0, 255, 0), 2, cv2.LINE_AA)"
   ]
  },
  {
   "cell_type": "code",
   "execution_count": 46,
   "metadata": {},
   "outputs": [],
   "source": [
    "from tesserocr import PyTessBaseAPI\n",
    "import cv2\n",
    "from tesserocr import PyTessBaseAPI, PSM, PT, RIL, iterate_level\n",
    "from PIL import Image\n",
    "import time"
   ]
  },
  {
   "cell_type": "code",
   "execution_count": 47,
   "metadata": {},
   "outputs": [],
   "source": [
    "pytestapi_path = r\"C:\\Program Files\\Tesseract-OCR\\tessdata\""
   ]
  },
  {
   "cell_type": "code",
   "execution_count": 58,
   "metadata": {},
   "outputs": [
    {
     "name": "stdout",
     "output_type": "stream",
     "text": [
      "1 (324, 218, 1295, 305) 96.34042358398438\n",
      "1 (379, 490, 1172, 548) 94.70921325683594\n",
      "1 (376, 615, 2125, 734) 95.21932983398438\n",
      "1 (935, 1247, 1345, 1515) 26.00366973876953\n",
      "1 (858, 1601, 1702, 1701) 92.1291275024414\n",
      "1 (855, 1701, 1701, 1756) 92.93549346923828\n",
      "8 (872, 1213, 929, 1444) 14.228012084960938\n",
      "9 (862, 804, 1680, 1526) 95.0\n",
      "1 (375, 1837, 2145, 2093) 96.08604431152344\n",
      "1 (384, 2146, 1776, 2664) 86.960205078125\n",
      "1 (376, 2725, 2148, 2843) 96.00785827636719\n",
      "1 (826, 2984, 1722, 3023) 95.30288696289062\n",
      "1 (378, 2862, 710, 2912) 96.18319702148438\n",
      "1 (35, 3215, 204, 3262) 95.77655029296875\n"
     ]
    }
   ],
   "source": [
    "with PyTessBaseAPI(path=pytestapi_path) as api:\n",
    "    api.SetImageFile(IMAGEPATH)\n",
    "    api.Recognize()\n",
    "    image = Image.open(IMAGEPATH)\n",
    "    image_np = np.array(image)\n",
    "    ri = api.GetIterator()\n",
    "    level = RIL.BLOCK # Block based Values \n",
    "    \n",
    "    # Table is detectable ( we can get the verticle and horizental Lins )\n",
    "    for r in iterate_level(ri, level):\n",
    "        symbol = r.GetUTF8Text(level)  # r == ri   Text data of that specific block \n",
    "        conf = r.Confidence(level) # Confidence level of that text \n",
    "        block_type = r.BlockType() # Type of that specific blocl\n",
    "        bounding_box_cord = r.BoundingBox(level) # Bounding box around that specific text \n",
    "        print(block_type, bounding_box_cord, conf) #  BBox output for current block\n",
    "        left = bounding_box_cord[0]\n",
    "        top = bounding_box_cord[1]\n",
    "        right = bounding_box_cord[2]\n",
    "        bottom = bounding_box_cord[3]\n",
    "        #if (block_type == PT.TABLE):\n",
    "        draw_rects(image_np,left,top,right,bottom, block_type, conf)         # Drawing those boxes inline image \n",
    "\n",
    "cv2.waitKey(0)\n",
    "cv2.destroyAllWindows()"
   ]
  },
  {
   "cell_type": "markdown",
   "metadata": {},
   "source": [
    "### Background Detection / Evaluation"
   ]
  },
  {
   "cell_type": "code",
   "execution_count": 49,
   "metadata": {},
   "outputs": [],
   "source": [
    "#   from __future__ import print_function\n",
    "\n",
    "from tesserocr import PyTessBaseAPI, PSM, PT, RIL, iterate_level\n",
    "from PIL import Image\n",
    "import time\n",
    "import cv2\n",
    "import numpy as np\n",
    "from io import BytesIO\n",
    "import matplotlib.pyplot as plt\n",
    "import matplotlib.patches as patches\n",
    "%matplotlib inline"
   ]
  },
  {
   "cell_type": "code",
   "execution_count": 50,
   "metadata": {},
   "outputs": [
    {
     "name": "stdout",
     "output_type": "stream",
     "text": [
      "Python 3.7.4\n"
     ]
    }
   ],
   "source": [
    "!python --version"
   ]
  },
  {
   "cell_type": "code",
   "execution_count": 51,
   "metadata": {},
   "outputs": [
    {
     "name": "stdout",
     "output_type": "stream",
     "text": [
      "(3300, 2550, 3) int16\n"
     ]
    }
   ],
   "source": [
    "IMAGEPATH = 'out10.jpg'\n",
    "PILimage = Image.open(IMAGEPATH)\n",
    "NUMPYimage = np.array(PILimage, dtype='int16')\n",
    "print(NUMPYimage.shape, NUMPYimage.dtype)"
   ]
  },
  {
   "cell_type": "code",
   "execution_count": 52,
   "metadata": {},
   "outputs": [
    {
     "data": {
      "image/png": "[encoded data removed]",
      "text/plain": [
       "<Figure size 1440x720 with 1 Axes>"
      ]
     },
     "metadata": {
      "needs_background": "light"
     },
     "output_type": "display_data"
    }
   ],
   "source": [
    "plt.figure(figsize=(20, 10))\n",
    "plt.imshow(NUMPYimage)\n",
    "plt.show()"
   ]
  },
  {
   "cell_type": "code",
   "execution_count": 54,
   "metadata": {},
   "outputs": [
    {
     "name": "stdout",
     "output_type": "stream",
     "text": [
      "324 1295 218 305\n",
      "------------ ['246', '247', '249']\n",
      "379 1172 490 548\n",
      "------------ ['255', '255', '255']\n",
      "379 2125 615 665\n",
      "------------ ['255', '255', '255']\n",
      "376 1587 684 734\n",
      "------------ ['255', '255', '255']\n",
      "858 1702 1600 1701\n",
      "------------ ['255', '255', '255']\n",
      "855 1699 1701 1756\n",
      "------------ ['255', '255', '255']\n",
      "376 2145 1837 1887\n",
      "------------ ['255', '255', '255']\n",
      "379 1887 1906 1956\n",
      "------------ ['255', '255', '255']\n",
      "375 2139 1975 2025\n",
      "------------ ['255', '255', '255']\n",
      "379 1201 2043 2093\n",
      "------------ ['255', '255', '255']\n",
      "384 814 2146 2193\n",
      "------------ ['255', '255', '255']\n",
      "384 761 2212 2262\n",
      "------------ ['255', '255', '255']\n",
      "384 1407 2281 2331\n",
      "------------ ['255', '255', '255']\n",
      "384 1648 2350 2400\n",
      "------------ ['255', '255', '255']\n",
      "384 1385 2418 2468\n",
      "------------ ['255', '255', '255']\n",
      "384 1502 2487 2537\n",
      "------------ ['255', '255', '255']\n",
      "384 1776 2556 2606\n",
      "------------ ['255', '255', '255']\n",
      "384 706 2625 2664\n",
      "------------ ['255', '255', '255']\n",
      "376 2147 2725 2775\n",
      "------------ ['255', '255', '255']\n",
      "378 2148 2793 2843\n",
      "------------ ['255', '255', '255']\n",
      "826 1722 2984 3023\n",
      "------------ ['223', '75', '75']\n",
      "378 710 2862 2912\n",
      "------------ ['255', '255', '255']\n",
      "35 204 3215 3262\n",
      "------------ ['246', '247', '249']\n"
     ]
    }
   ],
   "source": [
    "with PyTessBaseAPI(path = pytestapi_path) as api:\n",
    "    numBIN = 20\n",
    "    api.SetImage(PILimage)\n",
    "    api.Recognize()\n",
    "    \n",
    "    \n",
    "    \n",
    "    ri = api.GetIterator()\n",
    "    level = RIL.WORD\n",
    "    # Word by word iterator \n",
    "    for r in iterate_level(ri, level):\n",
    "        if r:\n",
    "            bbox = r.BoundingBox(level)\n",
    "            #print(bbox)\n",
    "            if bbox: ## Now black (-1) 'em out\n",
    "                # Word_BBoxes.append(bbox)\n",
    "                # print(bbox)\n",
    "                NUMPYimage[bbox[1]:bbox[3], bbox[0]:bbox[2], :] = -1\n",
    "    \n",
    "    ri = api.GetIterator()\n",
    "    level = RIL.TEXTLINE\n",
    "    # Text line iterator ! \n",
    "    Line_BBoxes = []\n",
    "    for r in iterate_level(ri, level):\n",
    "        if r:\n",
    "            bbox = r.BoundingBox(level)\n",
    "            if bbox:\n",
    "                # Line_BBoxes.append(bbox)\n",
    "                x1, y1, x2, y2 = bbox\n",
    "                \n",
    "                colorbin = np.ones((numBIN, 3), dtype = 'int16') *-1\n",
    "                \n",
    "                combs = np.where(NUMPYimage[y1:y2, x1:x2, 0] != -1) # Check if the image didn't had the -1 there\n",
    "                if (combs[0].size != 0): # check if the size is not zero \n",
    "                    bin_i = 0\n",
    "                    # Choose randomly bins (20 is the default set right now )\n",
    "                    # To check the image or the bin or whatsoever \n",
    "                    for i in np.random.choice(range(combs[0].shape[0]), numBIN):\n",
    "                        x = combs[1][i]\n",
    "                        y = combs[0][i]\n",
    "                        colorbin[bin_i] = NUMPYimage[y1+y, x1+x, :]\n",
    "                        bin_i += 1\n",
    "                    # Historgram \n",
    "\n",
    "                    hist = {}\n",
    "                    for r, g, b in colorbin:\n",
    "                        if not (r == -1):\n",
    "                            RGB = str(r)+\"_\"+str(g)+\"_\"+str(b)\n",
    "                            if RGB in list(hist.keys()):\n",
    "                                hist[RGB] += 1\n",
    "                            else:\n",
    "                                hist[RGB] = 1\n",
    "                    if len(list(hist.keys())):\n",
    "                        print(x1, x2, y1, y2)\n",
    "                        print(\"------------\",list(hist.keys())[list(hist.values()).index(max(list(hist.values())))].split(\"_\"))\n"
   ]
  },
  {
   "cell_type": "markdown",
   "metadata": {},
   "source": [
    "### Font Characterstics\n"
   ]
  },
  {
   "cell_type": "code",
   "execution_count": 55,
   "metadata": {},
   "outputs": [],
   "source": [
    "from __future__ import print_function\n",
    "\n",
    "from tesserocr import PyTessBaseAPI, PSM, PT, RIL, iterate_level\n",
    "from PIL import Image\n",
    "import time\n",
    "import cv2\n",
    "import numpy as np\n",
    "from io import BytesIO\n",
    "import matplotlib.pyplot as plt\n",
    "import matplotlib.patches as patches\n",
    "%matplotlib inline"
   ]
  },
  {
   "cell_type": "code",
   "execution_count": 56,
   "metadata": {},
   "outputs": [],
   "source": [
    "def get_font(image_path):\n",
    "    IMAGEPATH = image_path\n",
    "    original_image =Image.open(image_path)\n",
    "    with PyTessBaseAPI(path=pytestapi_path) as api:\n",
    "        api.SetImageFile(IMAGEPATH)\n",
    "        api.Recognize()\n",
    "        \n",
    "        ri = api.GetIterator()\n",
    "        level = RIL.SYMBOL # sYMBOL ! \n",
    "        print(type(ri))\n",
    "        \n",
    "        for r in iterate_level(ri, level):\n",
    "            if r:\n",
    "                #print(r)\n",
    "                symbol = r.GetUTF8Text(level) # Text extraction \n",
    "                img = r.GetBinaryImage(level) # Binary image conversion as per level\n",
    "                \n",
    "                img_sh = np.asarray(img)\n",
    "                denom = img_sh.size\n",
    "\n",
    "                # Pixel Density -> 1 - Sum of bounding box iamge / (size of array * 255)\n",
    "                pixel_density = 1- (img_sh.sum()/(denom*255))\n",
    "                print(symbol, pixel_density)"
   ]
  },
  {
   "cell_type": "code",
   "execution_count": 57,
   "metadata": {},
   "outputs": [
    {
     "name": "stdout",
     "output_type": "stream",
     "text": [
      "<class 'tesserocr._tesserocr.PyResultIterator'>\n",
      "B 0.46369747899159663\n",
      "o 0.34280036338859865\n",
      "o 0.33958737341090284\n",
      "k 0.4484181908057341\n",
      "s 0.21927707783777262\n",
      "a 0.4597884729649435\n",
      "n 0.4099286413438161\n",
      "d 0.3222349253180896\n",
      "C 0.2641694975862685\n",
      "o 0.184233426704015\n",
      "u 0.346750700280112\n",
      "r 0.33897547623037816\n",
      "s 0.3586540789155168\n",
      "e 0.4211119230300816\n",
      "s 0.350484360410831\n",
      "C 0.2640607758254817\n",
      "o 0.18574696545284786\n",
      "u 0.3692951775304717\n",
      "r 0.31970769789397235\n",
      "s 0.33806654952165793\n",
      "e 0.444912559618442\n",
      "s 0.3476967918144389\n",
      "| 1.0\n",
      "H 0.3650314465408805\n",
      "a 0.4506094329623741\n",
      "v 0.3105091448344044\n",
      "e 0.4325010131238505\n",
      "C 0.25390314020344984\n",
      "r 0.4919934640522876\n",
      "e 0.44354531001589825\n",
      "a 0.39756815639168586\n",
      "t 0.38439897698209724\n",
      "e 0.43381759040988255\n",
      "d 0.33655866820167024\n",
      "I 0.7769467787114845\n",
      "f 0.2894599243206054\n",
      "y 0.26344283167812577\n",
      "o 0.3159764705882353\n",
      "u 0.35205610021786493\n",
      "' 0.4476919934640523\n",
      "r 0.1628622358034123\n",
      "e 0.41947144075021314\n",
      "l 0.750515995872033\n",
      "o 0.3192734778121775\n",
      "o 0.314344685242518\n",
      "k 0.4666143790849673\n",
      "i 0.19974200206398351\n",
      "n 0.3082153231663035\n",
      "g 0.3563228189826655\n",
      "f 0.285577915376677\n",
      "o 0.314635294117647\n",
      "r 0.3542133520074696\n",
      "a 0.42508235294117647\n",
      "m 0.332405462184874\n",
      "o 0.4795547385620915\n",
      "r 0.32037348272642385\n",
      "e 0.34115483434753213\n",
      "i 0.5155406162464986\n",
      "n 0.2870818915801615\n",
      "- 1.0\n",
      "d 0.20771083062104734\n",
      "e 0.7114932126696832\n",
      "p 0.3967581699346405\n",
      "t 0.22006650613461753\n",
      "h 0.25059052860910447\n",
      "t 0.3377516339869281\n",
      "r 0.32372782446311854\n",
      "e 0.39128173374613007\n",
      "a 0.42704313725490195\n",
      "t 0.3377516339869281\n",
      "m 0.2897373051784816\n",
      "e 0.4374901960784314\n",
      "n 0.39717647058823524\n",
      "t 0.27306255835667603\n",
      "o 0.31988004613610155\n",
      "f 0.2987422600619195\n",
      "c 0.3106629318394024\n",
      "o 0.32138562091503264\n",
      "m 0.342422385620915\n",
      "p 0.33122276688453156\n",
      "u 0.215945637514265\n",
      "t 0.38922385620915034\n",
      "e 0.3291067538126362\n",
      "r 0.42401426024955435\n",
      "v 0.2173118820177644\n",
      "i 0.4986890756302521\n",
      "s 0.3958065359477124\n",
      "i 0.5042016806722689\n",
      "o 0.3222606689734717\n",
      "n 0.297406045751634\n",
      ", 0.4548552754435108\n",
      "m 0.36382534495279595\n",
      "a 0.3768963585434174\n",
      "k 0.6596392156862745\n",
      "e 0.21824786324786327\n",
      "s 0.3958065359477124\n",
      "u 0.3893333333333333\n",
      "r 0.3830882352941176\n",
      "e 0.3230343137254902\n",
      "y 0.27536694677871143\n",
      "o 0.3449411764705882\n",
      "u 0.32965057817999\n",
      "t 0.35409510930809107\n",
      "a 0.402242214532872\n",
      "k 0.800156862745098\n",
      "e 0.2171337090841735\n",
      "a 0.444672858617131\n",
      "l 0.967750257997936\n",
      "o 0.3139843137254902\n",
      "o 0.32247058823529406\n",
      "k 0.2832276770357266\n",
      "a 0.4064959630911188\n",
      "t 0.355104800540906\n",
      "t 0.3292765382014875\n",
      "h 0.19292348518354707\n",
      "e 0.392880174291939\n",
      "P 0.4410119130394474\n",
      "y 0.40041718815185645\n",
      "l 1.0\n",
      "m 0.5764957264957264\n",
      "a 0.6889554587267006\n",
      "g 0.5920319374287111\n",
      "e 0.8338837289301686\n",
      "S 0.6201999888274399\n",
      "e 0.6056173820879703\n",
      "a 0.6479608607575584\n",
      "r 0.7534858387799565\n",
      "c 0.5696078431372549\n",
      "h 0.4603871292106586\n",
      "G 0.5636956167508554\n",
      "u 0.6559708093763821\n",
      "r 0.6948287007110536\n",
      "u 0.5906396947919439\n",
      "s 0.5846861441632684\n",
      "c 0.6596502988659851\n",
      "o 0.45147421931735654\n",
      "u 0.6128812636165577\n",
      "r 0.6988651871004812\n",
      "s 0.5930529677934522\n",
      "e 0.7046155087549424\n",
      ": 0.557603858257453\n",
      "e 0.7839403159382875\n"
     ]
    },
    {
     "ename": "TypeError",
     "evalue": "unsupported operand type(s) for /: 'NoneType' and 'int'",
     "output_type": "error",
     "traceback": [
      "\u001b[1;31m---------------------------------------------------------------------------\u001b[0m",
      "\u001b[1;31mTypeError\u001b[0m                                 Traceback (most recent call last)",
      "\u001b[1;32m<ipython-input-57-97f5db4123d7>\u001b[0m in \u001b[0;36m<module>\u001b[1;34m\u001b[0m\n\u001b[1;32m----> 1\u001b[1;33m \u001b[0mget_font\u001b[0m\u001b[1;33m(\u001b[0m\u001b[1;34m\"out10.jpg\"\u001b[0m\u001b[1;33m)\u001b[0m\u001b[1;33m\u001b[0m\u001b[1;33m\u001b[0m\u001b[0m\n\u001b[0m",
      "\u001b[1;32m<ipython-input-56-087a5e636177>\u001b[0m in \u001b[0;36mget_font\u001b[1;34m(image_path)\u001b[0m\n\u001b[0;32m     20\u001b[0m \u001b[1;33m\u001b[0m\u001b[0m\n\u001b[0;32m     21\u001b[0m                 \u001b[1;31m# Pixel Density -> 1 - Sum of bounding box iamge / (size of array * 255)\u001b[0m\u001b[1;33m\u001b[0m\u001b[1;33m\u001b[0m\u001b[1;33m\u001b[0m\u001b[0m\n\u001b[1;32m---> 22\u001b[1;33m                 \u001b[0mpixel_density\u001b[0m \u001b[1;33m=\u001b[0m \u001b[1;36m1\u001b[0m\u001b[1;33m-\u001b[0m \u001b[1;33m(\u001b[0m\u001b[0mimg_sh\u001b[0m\u001b[1;33m.\u001b[0m\u001b[0msum\u001b[0m\u001b[1;33m(\u001b[0m\u001b[1;33m)\u001b[0m\u001b[1;33m/\u001b[0m\u001b[1;33m(\u001b[0m\u001b[0mdenom\u001b[0m\u001b[1;33m*\u001b[0m\u001b[1;36m255\u001b[0m\u001b[1;33m)\u001b[0m\u001b[1;33m)\u001b[0m\u001b[1;33m\u001b[0m\u001b[1;33m\u001b[0m\u001b[0m\n\u001b[0m\u001b[0;32m     23\u001b[0m                 \u001b[0mprint\u001b[0m\u001b[1;33m(\u001b[0m\u001b[0msymbol\u001b[0m\u001b[1;33m,\u001b[0m \u001b[0mpixel_density\u001b[0m\u001b[1;33m)\u001b[0m\u001b[1;33m\u001b[0m\u001b[1;33m\u001b[0m\u001b[0m\n",
      "\u001b[1;31mTypeError\u001b[0m: unsupported operand type(s) for /: 'NoneType' and 'int'"
     ]
    }
   ],
   "source": [
    "get_font(\"out10.jpg\")"
   ]
  },
  {
   "cell_type": "code",
   "execution_count": null,
   "metadata": {},
   "outputs": [],
   "source": []
  }
 ],
 "metadata": {
  "kernelspec": {
   "display_name": "Python 3",
   "language": "python",
   "name": "python3"
  },
  "language_info": {
   "codemirror_mode": {
    "name": "ipython",
    "version": 3
   },
   "file_extension": ".py",
   "mimetype": "text/x-python",
   "name": "python",
   "nbconvert_exporter": "python",
   "pygments_lexer": "ipython3",
   "version": "3.6.9"
  }
 },
 "nbformat": 4,
 "nbformat_minor": 4
}
