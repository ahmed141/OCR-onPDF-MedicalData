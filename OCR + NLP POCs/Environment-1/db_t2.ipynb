{
 "cells": [
  {
   "cell_type": "code",
   "execution_count": 12,
   "metadata": {},
   "outputs": [
    {
     "name": "stdout",
     "output_type": "stream",
     "text": [
      "Enter file name: \n"
     ]
    }
   ],
   "source": [
    "fname = input(\"Enter file name: \")\n",
    "if len(fname) < 1 : fname = \"../py4e/data/mbox.txt\"\n",
    "\n",
    "fh = open(fname)\n",
    "count = {}\n",
    "\n",
    "for line in fh:\n",
    "    words = line.split()\n",
    "    #print(words)\n",
    "\n",
    "    if(len(words) < 1 or words[0] != \"From\"):\n",
    "        continue\n",
    "    else:\n",
    "        #print(words[1])\n",
    "        count[words[1].split('@')[-1]] = count.get(words[1].split('@')[-1], 0) + 1"
   ]
  },
  {
   "cell_type": "code",
   "execution_count": 13,
   "metadata": {},
   "outputs": [
    {
     "data": {
      "text/plain": [
       "{'uct.ac.za': 96,\n",
       " 'media.berkeley.edu': 56,\n",
       " 'umich.edu': 491,\n",
       " 'iupui.edu': 536,\n",
       " 'caret.cam.ac.uk': 157,\n",
       " 'gmail.com': 25,\n",
       " 'indiana.edu': 178,\n",
       " 'et.gatech.edu': 17,\n",
       " 'vt.edu': 110,\n",
       " 'lancaster.ac.uk': 14,\n",
       " 'ucdavis.edu': 1,\n",
       " 'ufp.pt': 28,\n",
       " 'txstate.edu': 17,\n",
       " 'stanford.edu': 12,\n",
       " 'whitman.edu': 17,\n",
       " 'rsmart.com': 8,\n",
       " 'fhda.edu': 1,\n",
       " 'bu.edu': 14,\n",
       " 'unicon.net': 9,\n",
       " 'loi.nl': 9,\n",
       " 'utoronto.ca': 1}"
      ]
     },
     "execution_count": 13,
     "metadata": {},
     "output_type": "execute_result"
    }
   ],
   "source": [
    "count"
   ]
  },
  {
   "cell_type": "code",
   "execution_count": 15,
   "metadata": {},
   "outputs": [],
   "source": [
    "import sqlite3\n",
    "\n",
    "conn = sqlite3.connect('domaindb.sqlite')\n",
    "cur = conn.cursor()\n",
    "\n",
    "cur.execute('DROP TABLE IF EXISTS Counts')\n",
    "\n",
    "cur.execute('''CREATE TABLE Counts (org TEXT, count INTEGER)''')\n",
    "\n",
    "for k, v in count.items():\n",
    "    cur.execute('''INSERT INTO Counts (org, count)\n",
    "                VALUES (?, ?)''', (k, v))\n",
    "conn.commit()"
   ]
  },
  {
   "cell_type": "code",
   "execution_count": 16,
   "metadata": {},
   "outputs": [
    {
     "name": "stdout",
     "output_type": "stream",
     "text": [
      "iupui.edu 536\n",
      "umich.edu 491\n",
      "indiana.edu 178\n",
      "caret.cam.ac.uk 157\n",
      "vt.edu 110\n",
      "uct.ac.za 96\n",
      "media.berkeley.edu 56\n",
      "ufp.pt 28\n",
      "gmail.com 25\n",
      "et.gatech.edu 17\n",
      "txstate.edu 17\n",
      "whitman.edu 17\n",
      "lancaster.ac.uk 14\n",
      "bu.edu 14\n",
      "stanford.edu 12\n",
      "unicon.net 9\n",
      "loi.nl 9\n",
      "rsmart.com 8\n",
      "ucdavis.edu 1\n",
      "fhda.edu 1\n",
      "utoronto.ca 1\n"
     ]
    }
   ],
   "source": [
    "sqlstr = 'SELECT org, count FROM Counts ORDER BY count DESC'\n",
    "\n",
    "for row in cur.execute(sqlstr):\n",
    "    print(str(row[0]), row[1])"
   ]
  },
  {
   "cell_type": "code",
   "execution_count": null,
   "metadata": {},
   "outputs": [],
   "source": [
    "cur.close()"
   ]
  }
 ],
 "metadata": {
  "kernelspec": {
   "display_name": "Python 3",
   "language": "python",
   "name": "python3"
  },
  "language_info": {
   "codemirror_mode": {
    "name": "ipython",
    "version": 3
   },
   "file_extension": ".py",
   "mimetype": "text/x-python",
   "name": "python",
   "nbconvert_exporter": "python",
   "pygments_lexer": "ipython3",
   "version": "3.7.4"
  }
 },
 "nbformat": 4,
 "nbformat_minor": 2
}
