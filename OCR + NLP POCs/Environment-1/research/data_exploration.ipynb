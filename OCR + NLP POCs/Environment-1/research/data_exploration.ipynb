{
 "cells": [
  {
   "cell_type": "code",
   "execution_count": 2,
   "metadata": {},
   "outputs": [],
   "source": [
    "import pandas as pd"
   ]
  },
  {
   "cell_type": "code",
   "execution_count": 3,
   "metadata": {},
   "outputs": [],
   "source": [
    "df = pd.read_csv('./datafiles/testing_data.csv')"
   ]
  },
  {
   "cell_type": "code",
   "execution_count": 4,
   "metadata": {},
   "outputs": [
    {
     "data": {
      "text/html": [
       "<div>\n",
       "<style scoped>\n",
       "    .dataframe tbody tr th:only-of-type {\n",
       "        vertical-align: middle;\n",
       "    }\n",
       "\n",
       "    .dataframe tbody tr th {\n",
       "        vertical-align: top;\n",
       "    }\n",
       "\n",
       "    .dataframe thead th {\n",
       "        text-align: right;\n",
       "    }\n",
       "</style>\n",
       "<table border=\"1\" class=\"dataframe\">\n",
       "  <thead>\n",
       "    <tr style=\"text-align: right;\">\n",
       "      <th></th>\n",
       "      <th>mot-imported-id</th>\n",
       "      <th>dvsa_vehicle_id</th>\n",
       "      <th>completed_date</th>\n",
       "      <th>test_result</th>\n",
       "      <th>expiry_date</th>\n",
       "      <th>odometer_value</th>\n",
       "      <th>odometer_unit</th>\n",
       "      <th>mot_test_number</th>\n",
       "      <th>id</th>\n",
       "      <th>registration</th>\n",
       "      <th>make</th>\n",
       "      <th>model</th>\n",
       "      <th>first_used_date</th>\n",
       "      <th>fuel_type</th>\n",
       "      <th>primary_colour</th>\n",
       "      <th>id.1</th>\n",
       "      <th>dvsa_mot_test_id</th>\n",
       "      <th>type</th>\n",
       "      <th>text</th>\n",
       "      <th>code</th>\n",
       "    </tr>\n",
       "  </thead>\n",
       "  <tbody>\n",
       "    <tr>\n",
       "      <td>0</td>\n",
       "      <td>6924944</td>\n",
       "      <td>731007</td>\n",
       "      <td>30/01/2006 13:35:09</td>\n",
       "      <td>FAILED</td>\n",
       "      <td>NaN</td>\n",
       "      <td>55965</td>\n",
       "      <td>mi</td>\n",
       "      <td>593630036030</td>\n",
       "      <td>731007</td>\n",
       "      <td>S180SLC</td>\n",
       "      <td>MAZDA</td>\n",
       "      <td>MX5</td>\n",
       "      <td>1/8/1998</td>\n",
       "      <td>Petrol</td>\n",
       "      <td>Black</td>\n",
       "      <td>329454</td>\n",
       "      <td>6924944</td>\n",
       "      <td>FAIL</td>\n",
       "      <td>Nearside Front Tyre has ply or cords exposed (...</td>\n",
       "      <td>4.1.D.1b</td>\n",
       "    </tr>\n",
       "    <tr>\n",
       "      <td>1</td>\n",
       "      <td>6924944</td>\n",
       "      <td>731007</td>\n",
       "      <td>30/01/2006 13:35:09</td>\n",
       "      <td>FAILED</td>\n",
       "      <td>NaN</td>\n",
       "      <td>55965</td>\n",
       "      <td>mi</td>\n",
       "      <td>593630036030</td>\n",
       "      <td>731007</td>\n",
       "      <td>S180SLC</td>\n",
       "      <td>MAZDA</td>\n",
       "      <td>MX5</td>\n",
       "      <td>1/8/1998</td>\n",
       "      <td>Petrol</td>\n",
       "      <td>Black</td>\n",
       "      <td>329455</td>\n",
       "      <td>6924944</td>\n",
       "      <td>FAIL</td>\n",
       "      <td>Offside Front Tyre has ply or cords exposed (4...</td>\n",
       "      <td>4.1.D.1b</td>\n",
       "    </tr>\n",
       "    <tr>\n",
       "      <td>2</td>\n",
       "      <td>6924944</td>\n",
       "      <td>731007</td>\n",
       "      <td>30/01/2006 13:35:09</td>\n",
       "      <td>FAILED</td>\n",
       "      <td>NaN</td>\n",
       "      <td>55965</td>\n",
       "      <td>mi</td>\n",
       "      <td>593630036030</td>\n",
       "      <td>731007</td>\n",
       "      <td>S180SLC</td>\n",
       "      <td>MAZDA</td>\n",
       "      <td>MX5</td>\n",
       "      <td>1/8/1998</td>\n",
       "      <td>Petrol</td>\n",
       "      <td>Black</td>\n",
       "      <td>329456</td>\n",
       "      <td>6924944</td>\n",
       "      <td>USER ENTERED</td>\n",
       "      <td>rear brake pads appear to be wearing low.</td>\n",
       "      <td>NaN</td>\n",
       "    </tr>\n",
       "    <tr>\n",
       "      <td>3</td>\n",
       "      <td>6924941</td>\n",
       "      <td>731007</td>\n",
       "      <td>12/01/2007 10:49:37</td>\n",
       "      <td>FAILED</td>\n",
       "      <td>NaN</td>\n",
       "      <td>60174</td>\n",
       "      <td>mi</td>\n",
       "      <td>194012817407</td>\n",
       "      <td>731007</td>\n",
       "      <td>S180SLC</td>\n",
       "      <td>MAZDA</td>\n",
       "      <td>MX5</td>\n",
       "      <td>1/8/1998</td>\n",
       "      <td>Petrol</td>\n",
       "      <td>Black</td>\n",
       "      <td>329452</td>\n",
       "      <td>6924941</td>\n",
       "      <td>PRS</td>\n",
       "      <td>Nearside Headlamp aim too high (1.8)</td>\n",
       "      <td>1.8</td>\n",
       "    </tr>\n",
       "    <tr>\n",
       "      <td>4</td>\n",
       "      <td>6924941</td>\n",
       "      <td>731007</td>\n",
       "      <td>12/01/2007 10:49:37</td>\n",
       "      <td>FAILED</td>\n",
       "      <td>NaN</td>\n",
       "      <td>60174</td>\n",
       "      <td>mi</td>\n",
       "      <td>194012817407</td>\n",
       "      <td>731007</td>\n",
       "      <td>S180SLC</td>\n",
       "      <td>MAZDA</td>\n",
       "      <td>MX5</td>\n",
       "      <td>1/8/1998</td>\n",
       "      <td>Petrol</td>\n",
       "      <td>Black</td>\n",
       "      <td>329453</td>\n",
       "      <td>6924941</td>\n",
       "      <td>PRS</td>\n",
       "      <td>Offside Headlamp aim too low (1.8)</td>\n",
       "      <td>1.8</td>\n",
       "    </tr>\n",
       "  </tbody>\n",
       "</table>\n",
       "</div>"
      ],
      "text/plain": [
       "   mot-imported-id  dvsa_vehicle_id       completed_date test_result  \\\n",
       "0          6924944           731007  30/01/2006 13:35:09      FAILED   \n",
       "1          6924944           731007  30/01/2006 13:35:09      FAILED   \n",
       "2          6924944           731007  30/01/2006 13:35:09      FAILED   \n",
       "3          6924941           731007  12/01/2007 10:49:37      FAILED   \n",
       "4          6924941           731007  12/01/2007 10:49:37      FAILED   \n",
       "\n",
       "  expiry_date  odometer_value odometer_unit  mot_test_number      id  \\\n",
       "0         NaN           55965            mi     593630036030  731007   \n",
       "1         NaN           55965            mi     593630036030  731007   \n",
       "2         NaN           55965            mi     593630036030  731007   \n",
       "3         NaN           60174            mi     194012817407  731007   \n",
       "4         NaN           60174            mi     194012817407  731007   \n",
       "\n",
       "  registration   make model first_used_date fuel_type primary_colour    id.1  \\\n",
       "0      S180SLC  MAZDA   MX5        1/8/1998    Petrol          Black  329454   \n",
       "1      S180SLC  MAZDA   MX5        1/8/1998    Petrol          Black  329455   \n",
       "2      S180SLC  MAZDA   MX5        1/8/1998    Petrol          Black  329456   \n",
       "3      S180SLC  MAZDA   MX5        1/8/1998    Petrol          Black  329452   \n",
       "4      S180SLC  MAZDA   MX5        1/8/1998    Petrol          Black  329453   \n",
       "\n",
       "   dvsa_mot_test_id          type  \\\n",
       "0           6924944          FAIL   \n",
       "1           6924944          FAIL   \n",
       "2           6924944  USER ENTERED   \n",
       "3           6924941           PRS   \n",
       "4           6924941           PRS   \n",
       "\n",
       "                                                text      code  \n",
       "0  Nearside Front Tyre has ply or cords exposed (...  4.1.D.1b  \n",
       "1  Offside Front Tyre has ply or cords exposed (4...  4.1.D.1b  \n",
       "2          rear brake pads appear to be wearing low.       NaN  \n",
       "3               Nearside Headlamp aim too high (1.8)       1.8  \n",
       "4                 Offside Headlamp aim too low (1.8)       1.8  "
      ]
     },
     "execution_count": 4,
     "metadata": {},
     "output_type": "execute_result"
    }
   ],
   "source": [
    "df.head()"
   ]
  },
  {
   "cell_type": "code",
   "execution_count": 5,
   "metadata": {},
   "outputs": [
    {
     "data": {
      "text/plain": [
       "array(['FAIL', 'USER ENTERED', 'PRS', 'ADVISORY', 'MINOR'], dtype=object)"
      ]
     },
     "execution_count": 5,
     "metadata": {},
     "output_type": "execute_result"
    }
   ],
   "source": [
    "df['type'].unique()"
   ]
  },
  {
   "cell_type": "code",
   "execution_count": 6,
   "metadata": {},
   "outputs": [
    {
     "data": {
      "text/plain": [
       "array(['Black'], dtype=object)"
      ]
     },
     "execution_count": 6,
     "metadata": {},
     "output_type": "execute_result"
    }
   ],
   "source": [
    "df['primary_colour'].unique()"
   ]
  },
  {
   "cell_type": "code",
   "execution_count": 7,
   "metadata": {},
   "outputs": [
    {
     "data": {
      "text/plain": [
       "array(['Petrol'], dtype=object)"
      ]
     },
     "execution_count": 7,
     "metadata": {},
     "output_type": "execute_result"
    }
   ],
   "source": [
    "df['fuel_type'].unique()"
   ]
  },
  {
   "cell_type": "code",
   "execution_count": 8,
   "metadata": {},
   "outputs": [
    {
     "data": {
      "text/plain": [
       "array(['1/8/1998'], dtype=object)"
      ]
     },
     "execution_count": 8,
     "metadata": {},
     "output_type": "execute_result"
    }
   ],
   "source": [
    "df['first_used_date'].unique()"
   ]
  },
  {
   "cell_type": "code",
   "execution_count": 9,
   "metadata": {},
   "outputs": [
    {
     "data": {
      "text/plain": [
       "array(['MX5'], dtype=object)"
      ]
     },
     "execution_count": 9,
     "metadata": {},
     "output_type": "execute_result"
    }
   ],
   "source": [
    "df['model'].unique()"
   ]
  },
  {
   "cell_type": "code",
   "execution_count": 10,
   "metadata": {},
   "outputs": [
    {
     "data": {
      "text/plain": [
       "array(['S180SLC'], dtype=object)"
      ]
     },
     "execution_count": 10,
     "metadata": {},
     "output_type": "execute_result"
    }
   ],
   "source": [
    "df['registration'].unique()"
   ]
  },
  {
   "cell_type": "code",
   "execution_count": 12,
   "metadata": {},
   "outputs": [
    {
     "name": "stderr",
     "output_type": "stream",
     "text": [
      "Using TensorFlow backend.\n",
      "C:\\Users\\ahmed.shahzad\\AppData\\Roaming\\Python\\Python36\\site-packages\\tensorflow\\python\\framework\\dtypes.py:516: FutureWarning: Passing (type, 1) or '1type' as a synonym of type is deprecated; in a future version of numpy, it will be understood as (type, (1,)) / '(1,)type'.\n",
      "  _np_qint8 = np.dtype([(\"qint8\", np.int8, 1)])\n",
      "C:\\Users\\ahmed.shahzad\\AppData\\Roaming\\Python\\Python36\\site-packages\\tensorflow\\python\\framework\\dtypes.py:517: FutureWarning: Passing (type, 1) or '1type' as a synonym of type is deprecated; in a future version of numpy, it will be understood as (type, (1,)) / '(1,)type'.\n",
      "  _np_quint8 = np.dtype([(\"quint8\", np.uint8, 1)])\n",
      "C:\\Users\\ahmed.shahzad\\AppData\\Roaming\\Python\\Python36\\site-packages\\tensorflow\\python\\framework\\dtypes.py:518: FutureWarning: Passing (type, 1) or '1type' as a synonym of type is deprecated; in a future version of numpy, it will be understood as (type, (1,)) / '(1,)type'.\n",
      "  _np_qint16 = np.dtype([(\"qint16\", np.int16, 1)])\n",
      "C:\\Users\\ahmed.shahzad\\AppData\\Roaming\\Python\\Python36\\site-packages\\tensorflow\\python\\framework\\dtypes.py:519: FutureWarning: Passing (type, 1) or '1type' as a synonym of type is deprecated; in a future version of numpy, it will be understood as (type, (1,)) / '(1,)type'.\n",
      "  _np_quint16 = np.dtype([(\"quint16\", np.uint16, 1)])\n",
      "C:\\Users\\ahmed.shahzad\\AppData\\Roaming\\Python\\Python36\\site-packages\\tensorflow\\python\\framework\\dtypes.py:520: FutureWarning: Passing (type, 1) or '1type' as a synonym of type is deprecated; in a future version of numpy, it will be understood as (type, (1,)) / '(1,)type'.\n",
      "  _np_qint32 = np.dtype([(\"qint32\", np.int32, 1)])\n",
      "C:\\Users\\ahmed.shahzad\\AppData\\Roaming\\Python\\Python36\\site-packages\\tensorflow\\python\\framework\\dtypes.py:525: FutureWarning: Passing (type, 1) or '1type' as a synonym of type is deprecated; in a future version of numpy, it will be understood as (type, (1,)) / '(1,)type'.\n",
      "  np_resource = np.dtype([(\"resource\", np.ubyte, 1)])\n",
      "C:\\Users\\ahmed.shahzad\\AppData\\Roaming\\Python\\Python36\\site-packages\\tensorboard\\compat\\tensorflow_stub\\dtypes.py:541: FutureWarning: Passing (type, 1) or '1type' as a synonym of type is deprecated; in a future version of numpy, it will be understood as (type, (1,)) / '(1,)type'.\n",
      "  _np_qint8 = np.dtype([(\"qint8\", np.int8, 1)])\n",
      "C:\\Users\\ahmed.shahzad\\AppData\\Roaming\\Python\\Python36\\site-packages\\tensorboard\\compat\\tensorflow_stub\\dtypes.py:542: FutureWarning: Passing (type, 1) or '1type' as a synonym of type is deprecated; in a future version of numpy, it will be understood as (type, (1,)) / '(1,)type'.\n",
      "  _np_quint8 = np.dtype([(\"quint8\", np.uint8, 1)])\n",
      "C:\\Users\\ahmed.shahzad\\AppData\\Roaming\\Python\\Python36\\site-packages\\tensorboard\\compat\\tensorflow_stub\\dtypes.py:543: FutureWarning: Passing (type, 1) or '1type' as a synonym of type is deprecated; in a future version of numpy, it will be understood as (type, (1,)) / '(1,)type'.\n",
      "  _np_qint16 = np.dtype([(\"qint16\", np.int16, 1)])\n",
      "C:\\Users\\ahmed.shahzad\\AppData\\Roaming\\Python\\Python36\\site-packages\\tensorboard\\compat\\tensorflow_stub\\dtypes.py:544: FutureWarning: Passing (type, 1) or '1type' as a synonym of type is deprecated; in a future version of numpy, it will be understood as (type, (1,)) / '(1,)type'.\n",
      "  _np_quint16 = np.dtype([(\"quint16\", np.uint16, 1)])\n",
      "C:\\Users\\ahmed.shahzad\\AppData\\Roaming\\Python\\Python36\\site-packages\\tensorboard\\compat\\tensorflow_stub\\dtypes.py:545: FutureWarning: Passing (type, 1) or '1type' as a synonym of type is deprecated; in a future version of numpy, it will be understood as (type, (1,)) / '(1,)type'.\n",
      "  _np_qint32 = np.dtype([(\"qint32\", np.int32, 1)])\n",
      "C:\\Users\\ahmed.shahzad\\AppData\\Roaming\\Python\\Python36\\site-packages\\tensorboard\\compat\\tensorflow_stub\\dtypes.py:550: FutureWarning: Passing (type, 1) or '1type' as a synonym of type is deprecated; in a future version of numpy, it will be understood as (type, (1,)) / '(1,)type'.\n",
      "  np_resource = np.dtype([(\"resource\", np.ubyte, 1)])\n"
     ]
    }
   ],
   "source": [
    "from keras.preprocessing.text import hashing_trick\n",
    "from keras.preprocessing.text import text_to_word_sequence"
   ]
  },
  {
   "cell_type": "code",
   "execution_count": 13,
   "metadata": {},
   "outputs": [],
   "source": [
    "# define the document\n",
    "text = df['code'][0]\n",
    "# estimate the size of the vocabulary"
   ]
  },
  {
   "cell_type": "code",
   "execution_count": 14,
   "metadata": {},
   "outputs": [
    {
     "data": {
      "text/plain": [
       "'4.1.D.1b'"
      ]
     },
     "execution_count": 14,
     "metadata": {},
     "output_type": "execute_result"
    }
   ],
   "source": [
    "text"
   ]
  },
  {
   "cell_type": "code",
   "execution_count": 15,
   "metadata": {},
   "outputs": [
    {
     "name": "stdout",
     "output_type": "stream",
     "text": [
      "4\n",
      "[1, 4, 2, 3]\n"
     ]
    }
   ],
   "source": [
    "words = set(text_to_word_sequence(text))\n",
    "vocab_size = len(words)\n",
    "print(vocab_size)\n",
    "# integer encode the document\n",
    "result = hashing_trick(text, round(vocab_size*1.3), hash_function='md5')\n",
    "print(result)"
   ]
  },
  {
   "cell_type": "code",
   "execution_count": 18,
   "metadata": {},
   "outputs": [
    {
     "data": {
      "text/plain": [
       "array(['4.1.D.1b', nan, '1.8', '1.1.A.3b', '2.4.G.2', '1.7.5a',\n",
       "       '3.6.B.2c', '4.2.A.1e', '4.1.D.1a', '3.7.B.1', '4.1.E.1',\n",
       "       '2.4.C.1b', '2.4.G.1', '8.3.1a', '8.3.1d', '2.3.3b', '6.3.1d',\n",
       "       '7.1.2', '7.3.D.3', '3.7.B.3', '1.1.C.1d', '2.7.3',\n",
       "       '8.4.1 (a) (i)', '5.3.4 (b) (i)'], dtype=object)"
      ]
     },
     "execution_count": 18,
     "metadata": {},
     "output_type": "execute_result"
    }
   ],
   "source": [
    "df['code'].unique()"
   ]
  },
  {
   "cell_type": "code",
   "execution_count": null,
   "metadata": {},
   "outputs": [],
   "source": []
  }
 ],
 "metadata": {
  "kernelspec": {
   "display_name": "Python 3",
   "language": "python",
   "name": "python3"
  },
  "language_info": {
   "codemirror_mode": {
    "name": "ipython",
    "version": 3
   },
   "file_extension": ".py",
   "mimetype": "text/x-python",
   "name": "python",
   "nbconvert_exporter": "python",
   "pygments_lexer": "ipython3",
   "version": "3.6.8"
  }
 },
 "nbformat": 4,
 "nbformat_minor": 4
}
