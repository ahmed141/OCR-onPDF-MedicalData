{
 "cells": [
  {
   "cell_type": "code",
   "execution_count": 1,
   "metadata": {},
   "outputs": [],
   "source": [
    "import pandas as pd"
   ]
  },
  {
   "cell_type": "code",
   "execution_count": 2,
   "metadata": {},
   "outputs": [],
   "source": [
    "df = pd.read_csv(\"./datafiles/testing_data.csv\")"
   ]
  },
  {
   "cell_type": "code",
   "execution_count": 3,
   "metadata": {},
   "outputs": [],
   "source": [
    "unique_codes = df['code'].unique()"
   ]
  },
  {
   "cell_type": "code",
   "execution_count": 4,
   "metadata": {},
   "outputs": [
    {
     "data": {
      "text/plain": [
       "(24,)"
      ]
     },
     "execution_count": 4,
     "metadata": {},
     "output_type": "execute_result"
    }
   ],
   "source": [
    "unique_codes.shape"
   ]
  },
  {
   "cell_type": "code",
   "execution_count": 5,
   "metadata": {},
   "outputs": [
    {
     "data": {
      "text/plain": [
       "array(['4.1.D.1b', nan, '1.8', '1.1.A.3b', '2.4.G.2', '1.7.5a',\n",
       "       '3.6.B.2c', '4.2.A.1e', '4.1.D.1a', '3.7.B.1', '4.1.E.1',\n",
       "       '2.4.C.1b', '2.4.G.1', '8.3.1a', '8.3.1d', '2.3.3b', '6.3.1d',\n",
       "       '7.1.2', '7.3.D.3', '3.7.B.3', '1.1.C.1d', '2.7.3',\n",
       "       '8.4.1 (a) (i)', '5.3.4 (b) (i)'], dtype=object)"
      ]
     },
     "execution_count": 5,
     "metadata": {},
     "output_type": "execute_result"
    }
   ],
   "source": [
    "unique_codes"
   ]
  },
  {
   "cell_type": "code",
   "execution_count": 18,
   "metadata": {},
   "outputs": [
    {
     "data": {
      "text/plain": [
       "46"
      ]
     },
     "execution_count": 18,
     "metadata": {},
     "output_type": "execute_result"
    }
   ],
   "source": [
    "df['code'].isnull().sum()"
   ]
  },
  {
   "cell_type": "code",
   "execution_count": 22,
   "metadata": {},
   "outputs": [
    {
     "data": {
      "text/html": [
       "<div>\n",
       "<style scoped>\n",
       "    .dataframe tbody tr th:only-of-type {\n",
       "        vertical-align: middle;\n",
       "    }\n",
       "\n",
       "    .dataframe tbody tr th {\n",
       "        vertical-align: top;\n",
       "    }\n",
       "\n",
       "    .dataframe thead th {\n",
       "        text-align: right;\n",
       "    }\n",
       "</style>\n",
       "<table border=\"1\" class=\"dataframe\">\n",
       "  <thead>\n",
       "    <tr style=\"text-align: right;\">\n",
       "      <th></th>\n",
       "      <th>mot-imported-id</th>\n",
       "      <th>dvsa_vehicle_id</th>\n",
       "      <th>completed_date</th>\n",
       "      <th>test_result</th>\n",
       "      <th>expiry_date</th>\n",
       "      <th>odometer_value</th>\n",
       "      <th>odometer_unit</th>\n",
       "      <th>mot_test_number</th>\n",
       "      <th>id</th>\n",
       "      <th>registration</th>\n",
       "      <th>make</th>\n",
       "      <th>model</th>\n",
       "      <th>first_used_date</th>\n",
       "      <th>fuel_type</th>\n",
       "      <th>primary_colour</th>\n",
       "      <th>id.1</th>\n",
       "      <th>dvsa_mot_test_id</th>\n",
       "      <th>type</th>\n",
       "      <th>text</th>\n",
       "      <th>code</th>\n",
       "    </tr>\n",
       "  </thead>\n",
       "  <tbody>\n",
       "    <tr>\n",
       "      <td>0</td>\n",
       "      <td>6924944</td>\n",
       "      <td>731007</td>\n",
       "      <td>30/01/2006 13:35:09</td>\n",
       "      <td>FAILED</td>\n",
       "      <td>NaN</td>\n",
       "      <td>55965</td>\n",
       "      <td>mi</td>\n",
       "      <td>593630036030</td>\n",
       "      <td>731007</td>\n",
       "      <td>S180SLC</td>\n",
       "      <td>MAZDA</td>\n",
       "      <td>MX5</td>\n",
       "      <td>1/8/1998</td>\n",
       "      <td>Petrol</td>\n",
       "      <td>Black</td>\n",
       "      <td>329454</td>\n",
       "      <td>6924944</td>\n",
       "      <td>FAIL</td>\n",
       "      <td>Nearside Front Tyre has ply or cords exposed (...</td>\n",
       "      <td>4.1.D.1b</td>\n",
       "    </tr>\n",
       "    <tr>\n",
       "      <td>1</td>\n",
       "      <td>6924944</td>\n",
       "      <td>731007</td>\n",
       "      <td>30/01/2006 13:35:09</td>\n",
       "      <td>FAILED</td>\n",
       "      <td>NaN</td>\n",
       "      <td>55965</td>\n",
       "      <td>mi</td>\n",
       "      <td>593630036030</td>\n",
       "      <td>731007</td>\n",
       "      <td>S180SLC</td>\n",
       "      <td>MAZDA</td>\n",
       "      <td>MX5</td>\n",
       "      <td>1/8/1998</td>\n",
       "      <td>Petrol</td>\n",
       "      <td>Black</td>\n",
       "      <td>329455</td>\n",
       "      <td>6924944</td>\n",
       "      <td>FAIL</td>\n",
       "      <td>Offside Front Tyre has ply or cords exposed (4...</td>\n",
       "      <td>4.1.D.1b</td>\n",
       "    </tr>\n",
       "  </tbody>\n",
       "</table>\n",
       "</div>"
      ],
      "text/plain": [
       "   mot-imported-id  dvsa_vehicle_id       completed_date test_result  \\\n",
       "0          6924944           731007  30/01/2006 13:35:09      FAILED   \n",
       "1          6924944           731007  30/01/2006 13:35:09      FAILED   \n",
       "\n",
       "  expiry_date  odometer_value odometer_unit  mot_test_number      id  \\\n",
       "0         NaN           55965            mi     593630036030  731007   \n",
       "1         NaN           55965            mi     593630036030  731007   \n",
       "\n",
       "  registration   make model first_used_date fuel_type primary_colour    id.1  \\\n",
       "0      S180SLC  MAZDA   MX5        1/8/1998    Petrol          Black  329454   \n",
       "1      S180SLC  MAZDA   MX5        1/8/1998    Petrol          Black  329455   \n",
       "\n",
       "   dvsa_mot_test_id  type                                               text  \\\n",
       "0           6924944  FAIL  Nearside Front Tyre has ply or cords exposed (...   \n",
       "1           6924944  FAIL  Offside Front Tyre has ply or cords exposed (4...   \n",
       "\n",
       "       code  \n",
       "0  4.1.D.1b  \n",
       "1  4.1.D.1b  "
      ]
     },
     "execution_count": 22,
     "metadata": {},
     "output_type": "execute_result"
    }
   ],
   "source": [
    "df.loc[df['code'] == unique_codes[0]]"
   ]
  },
  {
   "cell_type": "code",
   "execution_count": null,
   "metadata": {},
   "outputs": [],
   "source": [
    "df.loc[df['code'] == unique_codes[0]]"
   ]
  }
 ],
 "metadata": {
  "kernelspec": {
   "display_name": "Python 3",
   "language": "python",
   "name": "python3"
  },
  "language_info": {
   "codemirror_mode": {
    "name": "ipython",
    "version": 3
   },
   "file_extension": ".py",
   "mimetype": "text/x-python",
   "name": "python",
   "nbconvert_exporter": "python",
   "pygments_lexer": "ipython3",
   "version": "3.6.8"
  }
 },
 "nbformat": 4,
 "nbformat_minor": 2
}
