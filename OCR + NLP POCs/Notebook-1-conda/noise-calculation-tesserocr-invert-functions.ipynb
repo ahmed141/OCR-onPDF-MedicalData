{
 "cells": [
  {
   "cell_type": "code",
   "execution_count": 44,
   "metadata": {},
   "outputs": [],
   "source": [
    "from tesserocr import PyTessBaseAPI, RIL, iterate_level, PT, OEM\n",
    "from PIL import Image\n",
    "import numpy as np\n",
    "import matplotlib.pyplot as plt\n",
    "from threading import Thread\n",
    "import time\n",
    "%matplotlib inline"
   ]
  },
  {
   "cell_type": "code",
   "execution_count": null,
   "metadata": {},
   "outputs": [],
   "source": []
  },
  {
   "cell_type": "markdown",
   "metadata": {},
   "source": [
    "## File Path"
   ]
  },
  {
   "cell_type": "code",
   "execution_count": 5,
   "metadata": {},
   "outputs": [],
   "source": [
    "IMAGE_PATH = \"../datafiles/Page_2.jpg\"\n",
    "imageMAT = Image.open(IMAGE_PATH)"
   ]
  },
  {
   "cell_type": "markdown",
   "metadata": {},
   "source": [
    "## Get blocks"
   ]
  },
  {
   "cell_type": "code",
   "execution_count": 50,
   "metadata": {},
   "outputs": [],
   "source": [
    "def get_noise_val_Image(imagePIL, NoiseThreshold_ppage): # NoiseThreshold_ppage is b/w 0 and 1\n",
    "    '''\n",
    "    Params:\n",
    "        imagePIL - PIL image object\n",
    "        NoiseThreshold_ppage - %age noise threshold for an image range [0, 1]\n",
    "        \n",
    "    Returns:\n",
    "        ratio of dark pixels and total pixels\n",
    "        boolean page acceptance result based on noise ratio\n",
    "        binary image with 0 representing noise pixels    \n",
    "    '''\n",
    "    \n",
    "    BinaryThreshold = 195          #will come from config file\n",
    "    \n",
    "    \n",
    "    # matcopy = imagePIL.copy()\n",
    "    grayPIL = imagePIL.convert('L')\n",
    "    imageNUMPY = np.array(grayPIL, dtype='uint8')\n",
    "    # print(imageNUMPY.shape)\n",
    "    \n",
    "    Tessstart = time.time()\n",
    "    \n",
    "    with PyTessBaseAPI(path = \"C:\\\\Tesseract\\\\Tesseract-OCR-v3\\\\tessdata\") as api:\n",
    "        api.SetImage(imagePIL)\n",
    "        api.Recognize()\n",
    "        ri = api.GetIterator()\n",
    "        level = RIL.TEXTLINE\n",
    "        for r in iterate_level(ri, level):\n",
    "            x1, y1, x2, y2 = r.BoundingBox(level)\n",
    "            # print(y1, y2, x1, x2)\n",
    "            imageNUMPY[y1:y2, x1:x2] = 255\n",
    "            \n",
    "    #bin_ = rgb2gray(imageNUMPY)\n",
    "    bin_ = np.zeros(imageNUMPY.shape)\n",
    "    \n",
    "    bin_ = np.where(imageNUMPY > BinaryThreshold, 1, 0)\n",
    "    \n",
    "    pixels_num = bin_.shape[0]*bin_.shape[1]\n",
    "    ratio = (pixels_num - bin_.sum())/pixels_num\n",
    "    \n",
    "    return ratio, ratio > NoiseThreshold_ppage, bin_ #returns the ratio, rejection result, binary_Image"
   ]
  },
  {
   "cell_type": "code",
   "execution_count": 51,
   "metadata": {},
   "outputs": [],
   "source": [
    "def get_noise_params_PDF(PDFImages, NoiseThreshold_ppage  = 0.50):\n",
    "    ''' IN-PROGRESS\n",
    "    PDFImages: r x c x ch x num where num is number of \n",
    "    '''\n",
    "    PAGESCOUNT = len(PDFImages)\n",
    "    pageNoiseFlag = [0]*PAGESCOUNT   #should be a class prop\n",
    "\n",
    "    FORstart = time.time()\n",
    "    \n",
    "    for i in range(0, len(PDFImages)):\n",
    "        #ITstart = time.time()\n",
    "        if(get_noise_val_Image(PDFImages[i], NoiseThreshold_ppage)[1]): #rejection means: page is noisy\n",
    "            pageNoiseFlag[i] = 1\n",
    "        #print(\"Iteration-Time taken\", time.time() - ITstart)\n",
    "    \n",
    "    print(\"FOR EndTime taken\", time.time() - FORstart)\n",
    "    \n",
    "    return   sum(pageNoiseFlag)/PAGESCOUNT, pageNoiseFlag #returns the %age of pages that are noisy [0, 1]"
   ]
  },
  {
   "cell_type": "code",
   "execution_count": 32,
   "metadata": {},
   "outputs": [
    {
     "data": {
      "text/plain": [
       "<matplotlib.image.AxesImage at 0x206b10604a8>"
      ]
     },
     "execution_count": 32,
     "metadata": {},
     "output_type": "execute_result"
    },
    {
     "data": {
      "image/png": "[encoded data removed]",
      "text/plain": [
       "<Figure size 432x288 with 1 Axes>"
      ]
     },
     "metadata": {
      "needs_background": "light"
     },
     "output_type": "display_data"
    }
   ],
   "source": [
    "plt.imshow(imageMAT)"
   ]
  },
  {
   "cell_type": "markdown",
   "metadata": {},
   "source": [
    "### Using the functions"
   ]
  },
  {
   "cell_type": "code",
   "execution_count": 52,
   "metadata": {},
   "outputs": [
    {
     "name": "stdout",
     "output_type": "stream",
     "text": [
      "TIME:\t 3.924976348876953\n"
     ]
    }
   ],
   "source": [
    "start = time.time()\n",
    "R, r, I = get_noise_val_Image(imageMAT, 0.50)\n",
    "print(\"TIME:\\t\", time.time() - start)"
   ]
  },
  {
   "cell_type": "code",
   "execution_count": 35,
   "metadata": {},
   "outputs": [
    {
     "name": "stdout",
     "output_type": "stream",
     "text": [
      "0.0013134878193701723 False\n"
     ]
    },
    {
     "data": {
      "image/png": "[encoded data removed]",
      "text/plain": [
       "<Figure size 432x288 with 1 Axes>"
      ]
     },
     "metadata": {
      "needs_background": "light"
     },
     "output_type": "display_data"
    }
   ],
   "source": [
    "print(R, r)\n",
    "\n",
    "plt.imshow(I)\n",
    "plt.show()"
   ]
  },
  {
   "cell_type": "code",
   "execution_count": 24,
   "metadata": {},
   "outputs": [
    {
     "data": {
      "text/plain": [
       "0"
      ]
     },
     "execution_count": 24,
     "metadata": {},
     "output_type": "execute_result"
    }
   ],
   "source": [
    "np.amax(I)"
   ]
  },
  {
   "cell_type": "code",
   "execution_count": null,
   "metadata": {},
   "outputs": [],
   "source": []
  },
  {
   "cell_type": "code",
   "execution_count": null,
   "metadata": {},
   "outputs": [],
   "source": []
  }
 ],
 "metadata": {
  "kernelspec": {
   "display_name": "Python 3",
   "language": "python",
   "name": "python3"
  },
  "language_info": {
   "codemirror_mode": {
    "name": "ipython",
    "version": 3
   },
   "file_extension": ".py",
   "mimetype": "text/x-python",
   "name": "python",
   "nbconvert_exporter": "python",
   "pygments_lexer": "ipython3",
   "version": "3.6.9"
  }
 },
 "nbformat": 4,
 "nbformat_minor": 4
}
